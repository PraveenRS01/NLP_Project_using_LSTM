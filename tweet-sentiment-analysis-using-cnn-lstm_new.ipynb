{
 "cells": [
  {
   "cell_type": "code",
   "execution_count": 1,
   "metadata": {
    "_cell_guid": "b1076dfc-b9ad-4769-8c92-a6c4dae69d19",
    "_uuid": "8f2839f25d086af736a60e9eeb907d3b93b6e0e5",
    "execution": {
     "iopub.execute_input": "2021-05-21T09:19:51.698141Z",
     "iopub.status.busy": "2021-05-21T09:19:51.697681Z",
     "iopub.status.idle": "2021-05-21T09:19:52.545766Z",
     "shell.execute_reply": "2021-05-21T09:19:52.544662Z",
     "shell.execute_reply.started": "2021-05-21T09:19:51.698016Z"
    }
   },
   "outputs": [
    {
     "name": "stdout",
     "output_type": "stream",
     "text": [
      "/kaggle/input/nlp-tweet-sentiment-analysis/bitcointweets.csv\n"
     ]
    }
   ],
   "source": [
    "import numpy as np # linear algebra\n",
    "import pandas as pd # data processing, CSV file I/O (e.g. pd.read_csv)\n",
    "import matplotlib.pyplot as plt\n",
    "import seaborn as sns\n",
    "%matplotlib inline\n",
    "print(\"hellooo\")\n"
   ]
  },
  {
   "cell_type": "code",
   "execution_count": 2,
   "metadata": {
    "execution": {
     "iopub.execute_input": "2021-05-21T09:19:59.083937Z",
     "iopub.status.busy": "2021-05-21T09:19:59.083553Z",
     "iopub.status.idle": "2021-05-21T09:19:59.610840Z",
     "shell.execute_reply": "2021-05-21T09:19:59.609658Z",
     "shell.execute_reply.started": "2021-05-21T09:19:59.083892Z"
    }
   },
   "outputs": [
    {
     "data": {
      "text/html": [
       "<div>\n",
       "<style scoped>\n",
       "    .dataframe tbody tr th:only-of-type {\n",
       "        vertical-align: middle;\n",
       "    }\n",
       "\n",
       "    .dataframe tbody tr th {\n",
       "        vertical-align: top;\n",
       "    }\n",
       "\n",
       "    .dataframe thead th {\n",
       "        text-align: right;\n",
       "    }\n",
       "</style>\n",
       "<table border=\"1\" class=\"dataframe\">\n",
       "  <thead>\n",
       "    <tr style=\"text-align: right;\">\n",
       "      <th></th>\n",
       "      <th>tweet</th>\n",
       "      <th>label</th>\n",
       "    </tr>\n",
       "  </thead>\n",
       "  <tbody>\n",
       "    <tr>\n",
       "      <th>0</th>\n",
       "      <td>RT @ALXTOKEN: Paul Krugman, Nobel Luddite. I h...</td>\n",
       "      <td>['neutral']</td>\n",
       "    </tr>\n",
       "    <tr>\n",
       "      <th>1</th>\n",
       "      <td>@lopp @_Kevin_Pham @psycho_sage @naval But @Pr...</td>\n",
       "      <td>['neutral']</td>\n",
       "    </tr>\n",
       "    <tr>\n",
       "      <th>2</th>\n",
       "      <td>RT @tippereconomy: Another use case for #block...</td>\n",
       "      <td>['positive']</td>\n",
       "    </tr>\n",
       "    <tr>\n",
       "      <th>3</th>\n",
       "      <td>free coins https://t.co/DiuoePJdap</td>\n",
       "      <td>['positive']</td>\n",
       "    </tr>\n",
       "    <tr>\n",
       "      <th>4</th>\n",
       "      <td>RT @payvxofficial: WE are happy to announce th...</td>\n",
       "      <td>['positive']</td>\n",
       "    </tr>\n",
       "  </tbody>\n",
       "</table>\n",
       "</div>"
      ],
      "text/plain": [
       "                                               tweet         label\n",
       "0  RT @ALXTOKEN: Paul Krugman, Nobel Luddite. I h...   ['neutral']\n",
       "1  @lopp @_Kevin_Pham @psycho_sage @naval But @Pr...   ['neutral']\n",
       "2  RT @tippereconomy: Another use case for #block...  ['positive']\n",
       "3                 free coins https://t.co/DiuoePJdap  ['positive']\n",
       "4  RT @payvxofficial: WE are happy to announce th...  ['positive']"
      ]
     },
     "execution_count": 2,
     "metadata": {},
     "output_type": "execute_result"
    }
   ],
   "source": [
    "# Load Data\n",
    "df = pd.read_csv('bitcointweets.csv', header=None)\n",
    "df = df[[1,7]]\n",
    "df.columns = ['tweet','label']\n",
    "df.head()"
   ]
  },
  {
   "cell_type": "code",
   "execution_count": 3,
   "metadata": {
    "execution": {
     "iopub.execute_input": "2021-05-21T09:20:00.862812Z",
     "iopub.status.busy": "2021-05-21T09:20:00.862436Z",
     "iopub.status.idle": "2021-05-21T09:20:01.073859Z",
     "shell.execute_reply": "2021-05-21T09:20:01.072672Z",
     "shell.execute_reply.started": "2021-05-21T09:20:00.862780Z"
    }
   },
   "outputs": [
    {
     "name": "stderr",
     "output_type": "stream",
     "text": [
      "/opt/conda/lib/python3.7/site-packages/seaborn/_decorators.py:43: FutureWarning: Pass the following variable as a keyword arg: x. From version 0.12, the only valid positional argument will be `data`, and passing other arguments without an explicit keyword will result in an error or misinterpretation.\n",
      "  FutureWarning\n"
     ]
    },
    {
     "data": {
      "text/plain": [
       "<AxesSubplot:xlabel='label', ylabel='count'>"
      ]
     },
     "execution_count": 3,
     "metadata": {},
     "output_type": "execute_result"
    },
    {
     "data": {
      "image/png": "[encoded data removed]",
      "text/plain": [
       "<Figure size 432x288 with 1 Axes>"
      ]
     },
     "metadata": {
      "needs_background": "light"
     },
     "output_type": "display_data"
    }
   ],
   "source": [
    "# inspect sentiment\n",
    "sns.countplot(df['label'])"
   ]
  },
  {
   "cell_type": "markdown",
   "metadata": {},
   "source": [
    "Majority of tweets are neutral and positive. Looks like there are not much negative tweets on Bitcoin! No wonder the price is skyrocketing!"
   ]
  },
  {
   "cell_type": "code",
   "execution_count": 4,
   "metadata": {
    "execution": {
     "iopub.execute_input": "2021-05-21T09:20:32.196326Z",
     "iopub.status.busy": "2021-05-21T09:20:32.195817Z",
     "iopub.status.idle": "2021-05-21T09:20:32.233818Z",
     "shell.execute_reply": "2021-05-21T09:20:32.232817Z",
     "shell.execute_reply.started": "2021-05-21T09:20:32.196293Z"
    }
   },
   "outputs": [
    {
     "data": {
      "text/html": [
       "<div>\n",
       "<style scoped>\n",
       "    .dataframe tbody tr th:only-of-type {\n",
       "        vertical-align: middle;\n",
       "    }\n",
       "\n",
       "    .dataframe tbody tr th {\n",
       "        vertical-align: top;\n",
       "    }\n",
       "\n",
       "    .dataframe thead th {\n",
       "        text-align: right;\n",
       "    }\n",
       "</style>\n",
       "<table border=\"1\" class=\"dataframe\">\n",
       "  <thead>\n",
       "    <tr style=\"text-align: right;\">\n",
       "      <th></th>\n",
       "      <th>label</th>\n",
       "      <th>text_length</th>\n",
       "      <th>tweet</th>\n",
       "    </tr>\n",
       "  </thead>\n",
       "  <tbody>\n",
       "    <tr>\n",
       "      <th>0</th>\n",
       "      <td>['neutral']</td>\n",
       "      <td>140</td>\n",
       "      <td>RT @ALXTOKEN: Paul Krugman, Nobel Luddite. I h...</td>\n",
       "    </tr>\n",
       "    <tr>\n",
       "      <th>1</th>\n",
       "      <td>['neutral']</td>\n",
       "      <td>137</td>\n",
       "      <td>@lopp @_Kevin_Pham @psycho_sage @naval But @Pr...</td>\n",
       "    </tr>\n",
       "    <tr>\n",
       "      <th>2</th>\n",
       "      <td>['positive']</td>\n",
       "      <td>140</td>\n",
       "      <td>RT @tippereconomy: Another use case for #block...</td>\n",
       "    </tr>\n",
       "    <tr>\n",
       "      <th>3</th>\n",
       "      <td>['positive']</td>\n",
       "      <td>34</td>\n",
       "      <td>free coins https://t.co/DiuoePJdap</td>\n",
       "    </tr>\n",
       "    <tr>\n",
       "      <th>4</th>\n",
       "      <td>['positive']</td>\n",
       "      <td>146</td>\n",
       "      <td>RT @payvxofficial: WE are happy to announce th...</td>\n",
       "    </tr>\n",
       "  </tbody>\n",
       "</table>\n",
       "</div>"
      ],
      "text/plain": [
       "          label  text_length  \\\n",
       "0   ['neutral']          140   \n",
       "1   ['neutral']          137   \n",
       "2  ['positive']          140   \n",
       "3  ['positive']           34   \n",
       "4  ['positive']          146   \n",
       "\n",
       "                                               tweet  \n",
       "0  RT @ALXTOKEN: Paul Krugman, Nobel Luddite. I h...  \n",
       "1  @lopp @_Kevin_Pham @psycho_sage @naval But @Pr...  \n",
       "2  RT @tippereconomy: Another use case for #block...  \n",
       "3                 free coins https://t.co/DiuoePJdap  \n",
       "4  RT @payvxofficial: WE are happy to announce th...  "
      ]
     },
     "execution_count": 4,
     "metadata": {},
     "output_type": "execute_result"
    }
   ],
   "source": [
    "# text length\n",
    "df['text_length'] = df['tweet'].apply(len)\n",
    "df[['label','text_length','tweet']].head()"
   ]
  },
  {
   "cell_type": "code",
   "execution_count": 5,
   "metadata": {
    "execution": {
     "iopub.execute_input": "2021-05-21T09:20:33.252750Z",
     "iopub.status.busy": "2021-05-21T09:20:33.252376Z",
     "iopub.status.idle": "2021-05-21T09:20:33.889816Z",
     "shell.execute_reply": "2021-05-21T09:20:33.888735Z",
     "shell.execute_reply.started": "2021-05-21T09:20:33.252719Z"
    }
   },
   "outputs": [
    {
     "data": {
      "text/plain": [
       "<seaborn.axisgrid.FacetGrid at 0x7f0b9c6047d0>"
      ]
     },
     "execution_count": 5,
     "metadata": {},
     "output_type": "execute_result"
    },
    {
     "data": {
      "image/png": "[encoded data removed]",
      "text/plain": [
       "<Figure size 648x216 with 3 Axes>"
      ]
     },
     "metadata": {
      "needs_background": "light"
     },
     "output_type": "display_data"
    }
   ],
   "source": [
    "g = sns.FacetGrid(df,col='label')\n",
    "g.map(plt.hist,'text_length')"
   ]
  },
  {
   "cell_type": "markdown",
   "metadata": {},
   "source": [
    "As expected, most tweets are very short in length."
   ]
  },
  {
   "cell_type": "markdown",
   "metadata": {},
   "source": [
    "We are going to clean up the tweets, remove special chars, stop words, URL links, etc.."
   ]
  },
  {
   "cell_type": "code",
   "execution_count": 6,
   "metadata": {
    "execution": {
     "iopub.execute_input": "2021-05-21T09:20:36.092698Z",
     "iopub.status.busy": "2021-05-21T09:20:36.092267Z",
     "iopub.status.idle": "2021-05-21T09:20:38.388498Z",
     "shell.execute_reply": "2021-05-21T09:20:38.387617Z",
     "shell.execute_reply.started": "2021-05-21T09:20:36.092664Z"
    }
   },
   "outputs": [],
   "source": [
    "\n",
    "from nltk.corpus import stopwords\n",
    "\n",
    "import re\n",
    "\n",
    "def clean_text(s):\n",
    "    s = re.sub(r'http\\S+', '', s)\n",
    "    s = re.sub('(RT|via)((?:\\\\b\\\\W*@\\\\w+)+)', ' ', s)\n",
    "    s = re.sub(r'@\\S+', '', s)\n",
    "    s = re.sub('&amp', ' ', s)\n",
    "    return s\n",
    "df['clean_tweet'] = df['tweet'].apply(clean_text)\n",
    "\n",
    "text = df['clean_tweet'].to_string().lower()"
   ]
  },
  {
   "cell_type": "code",
   "execution_count": 8,
   "metadata": {
    "execution": {
     "iopub.execute_input": "2021-05-21T09:20:43.122696Z",
     "iopub.status.busy": "2021-05-21T09:20:43.122315Z",
     "iopub.status.idle": "2021-05-21T09:20:43.149155Z",
     "shell.execute_reply": "2021-05-21T09:20:43.148110Z",
     "shell.execute_reply.started": "2021-05-21T09:20:43.122665Z"
    }
   },
   "outputs": [],
   "source": [
    "# Encode Categorical Variable\n",
    "X = df['clean_tweet']\n",
    "y = pd.get_dummies(df['label']).values\n",
    "num_classes = df['label'].nunique()"
   ]
  },
  {
   "cell_type": "code",
   "execution_count": 9,
   "metadata": {
    "execution": {
     "iopub.execute_input": "2021-05-21T09:20:44.322871Z",
     "iopub.status.busy": "2021-05-21T09:20:44.322505Z",
     "iopub.status.idle": "2021-05-21T09:20:44.328661Z",
     "shell.execute_reply": "2021-05-21T09:20:44.326357Z",
     "shell.execute_reply.started": "2021-05-21T09:20:44.322841Z"
    }
   },
   "outputs": [],
   "source": [
    "seed = 101 # fix random seed for reproducibility\n",
    "np.random.seed(seed)"
   ]
  },
  {
   "cell_type": "code",
   "execution_count": 10,
   "metadata": {
    "execution": {
     "iopub.execute_input": "2021-05-21T09:20:45.434499Z",
     "iopub.status.busy": "2021-05-21T09:20:45.434013Z",
     "iopub.status.idle": "2021-05-21T09:20:45.919540Z",
     "shell.execute_reply": "2021-05-21T09:20:45.918731Z",
     "shell.execute_reply.started": "2021-05-21T09:20:45.434468Z"
    }
   },
   "outputs": [
    {
     "name": "stdout",
     "output_type": "stream",
     "text": [
      "(40687,) (10172,) (40687, 3) (10172, 3)\n"
     ]
    }
   ],
   "source": [
    "# Split Train Test sets\n",
    "from sklearn.model_selection import train_test_split\n",
    "X_train, X_test, y_train, y_test = train_test_split(X, y, \n",
    "                                                    test_size=0.2,\n",
    "                                                    stratify=y,\n",
    "                                                    random_state=seed)\n",
    "print(X_train.shape, X_test.shape, y_train.shape, y_test.shape)"
   ]
  },
  {
   "cell_type": "code",
   "execution_count": 11,
   "metadata": {
    "execution": {
     "iopub.execute_input": "2021-05-21T09:20:47.992775Z",
     "iopub.status.busy": "2021-05-21T09:20:47.992209Z",
     "iopub.status.idle": "2021-05-21T09:20:56.507764Z",
     "shell.execute_reply": "2021-05-21T09:20:56.506692Z",
     "shell.execute_reply.started": "2021-05-21T09:20:47.992728Z"
    }
   },
   "outputs": [],
   "source": [
    "# Tokenize Text\n",
    "from keras.preprocessing.text import Tokenizer\n",
    "max_features = 20000\n",
    "tokenizer = Tokenizer(num_words=max_features)\n",
    "tokenizer.fit_on_texts(list(X_train))\n",
    "X_train = tokenizer.texts_to_sequences(X_train)\n",
    "X_test = tokenizer.texts_to_sequences(X_test)"
   ]
  },
  {
   "cell_type": "code",
   "execution_count": 12,
   "metadata": {
    "execution": {
     "iopub.execute_input": "2021-05-21T09:21:27.353865Z",
     "iopub.status.busy": "2021-05-21T09:21:27.353472Z",
     "iopub.status.idle": "2021-05-21T09:21:27.797458Z",
     "shell.execute_reply": "2021-05-21T09:21:27.796629Z",
     "shell.execute_reply.started": "2021-05-21T09:21:27.353833Z"
    }
   },
   "outputs": [
    {
     "data": {
      "image/png": "[encoded data removed]",
      "text/plain": [
       "<Figure size 432x288 with 1 Axes>"
      ]
     },
     "metadata": {
      "needs_background": "light"
     },
     "output_type": "display_data"
    }
   ],
   "source": [
    "totalNumWords = [len(one_comment) for one_comment in X_train]\n",
    "plt.hist(totalNumWords,bins = 30)\n",
    "plt.show()"
   ]
  },
  {
   "cell_type": "code",
   "execution_count": 13,
   "metadata": {
    "execution": {
     "iopub.execute_input": "2021-05-21T09:21:28.798470Z",
     "iopub.status.busy": "2021-05-21T09:21:28.797771Z",
     "iopub.status.idle": "2021-05-21T09:21:29.283098Z",
     "shell.execute_reply": "2021-05-21T09:21:29.282245Z",
     "shell.execute_reply.started": "2021-05-21T09:21:28.798424Z"
    }
   },
   "outputs": [
    {
     "name": "stdout",
     "output_type": "stream",
     "text": [
      "(40687, 30) (10172, 30)\n"
     ]
    }
   ],
   "source": [
    "from keras.preprocessing import sequence\n",
    "max_length = 30\n",
    "X_train = sequence.pad_sequences(X_train, maxlen=max_length)\n",
    "X_test = sequence.pad_sequences(X_test, maxlen=max_length)\n",
    "print(X_train.shape,X_test.shape)"
   ]
  },
  {
   "cell_type": "code",
   "execution_count": 14,
   "metadata": {
    "execution": {
     "iopub.execute_input": "2021-05-21T09:21:30.707827Z",
     "iopub.status.busy": "2021-05-21T09:21:30.707143Z",
     "iopub.status.idle": "2021-05-21T09:21:30.712722Z",
     "shell.execute_reply": "2021-05-21T09:21:30.711874Z",
     "shell.execute_reply.started": "2021-05-21T09:21:30.707782Z"
    }
   },
   "outputs": [],
   "source": [
    "\n",
    "from keras.models import Sequential\n",
    "from keras.layers import Dense,Embedding,Conv1D,MaxPooling1D,LSTM\n",
    "from sklearn.metrics import accuracy_score,confusion_matrix,classification_report\n",
    "from keras.callbacks import EarlyStopping\n",
    "from keras.optimizers import Adam\n",
    "\n",
    "batch_size = 128\n",
    "epochs = 10"
   ]
  },
  {
   "cell_type": "markdown",
   "metadata": {},
   "source": [
    "This deep learning model will have 2 CNN layers, 1 LSTM layer, and final dense layer for classification"
   ]
  },
  {
   "cell_type": "code",
   "execution_count": 16,
   "metadata": {
    "execution": {
     "iopub.execute_input": "2021-05-21T09:21:54.077840Z",
     "iopub.status.busy": "2021-05-21T09:21:54.077438Z",
     "iopub.status.idle": "2021-05-21T09:21:54.402612Z",
     "shell.execute_reply": "2021-05-21T09:21:54.401393Z",
     "shell.execute_reply.started": "2021-05-21T09:21:54.077801Z"
    }
   },
   "outputs": [
    {
     "name": "stdout",
     "output_type": "stream",
     "text": [
      "Model: \"sequential\"\n",
      "_________________________________________________________________\n",
      "Layer (type)                 Output Shape              Param #   \n",
      "=================================================================\n",
      "embedding (Embedding)        (None, 30, 50)            1000000   \n",
      "_________________________________________________________________\n",
      "conv1d (Conv1D)              (None, 30, 32)            4832      \n",
      "_________________________________________________________________\n",
      "max_pooling1d (MaxPooling1D) (None, 15, 32)            0         \n",
      "_________________________________________________________________\n",
      "lstm (LSTM)                  (None, 50)                16600     \n",
      "_________________________________________________________________\n",
      "dense (Dense)                (None, 3)                 153       \n",
      "=================================================================\n",
      "Total params: 1,021,585\n",
      "Trainable params: 1,021,585\n",
      "Non-trainable params: 0\n",
      "_________________________________________________________________\n",
      "None\n"
     ]
    }
   ],
   "source": [
    "max_features = 20000\n",
    "embed_dim = 50\n",
    "\n",
    "np.random.seed(seed)\n",
    "\n",
    "model = Sequential()\n",
    "model.add(Embedding(max_features, embed_dim, input_length=X_train.shape[1]))\n",
    "\n",
    "model.add(Conv1D(filters=32, kernel_size=3, padding='same', activation='relu'))\n",
    "model.add(MaxPooling1D(pool_size=2))  \n",
    "model.add(LSTM(50, dropout=0.2, recurrent_dropout=0.2))\n",
    "model.add(Dense(num_classes, activation='softmax'))\n",
    "\n",
    "model.compile(loss='categorical_crossentropy', optimizer='adam', metrics=['accuracy'])\n",
    "print(model.summary())"
   ]
  },
  {
   "cell_type": "code",
   "execution_count": 17,
   "metadata": {
    "execution": {
     "iopub.execute_input": "2021-05-21T09:22:04.984263Z",
     "iopub.status.busy": "2021-05-21T09:22:04.983826Z",
     "iopub.status.idle": "2021-05-21T09:22:52.598947Z",
     "shell.execute_reply": "2021-05-21T09:22:52.597924Z",
     "shell.execute_reply.started": "2021-05-21T09:22:04.984222Z"
    }
   },
   "outputs": [
    {
     "name": "stdout",
     "output_type": "stream",
     "text": [
      "Epoch 1/10\n",
      "318/318 - 14s - loss: 0.3517 - accuracy: 0.8617 - val_loss: 0.1128 - val_accuracy: 0.9645\n",
      "Epoch 2/10\n",
      "318/318 - 11s - loss: 0.0598 - accuracy: 0.9825 - val_loss: 0.0864 - val_accuracy: 0.9755\n",
      "Epoch 3/10\n",
      "318/318 - 11s - loss: 0.0245 - accuracy: 0.9929 - val_loss: 0.1012 - val_accuracy: 0.9738\n",
      "Epoch 4/10\n",
      "318/318 - 11s - loss: 0.0139 - accuracy: 0.9964 - val_loss: 0.0976 - val_accuracy: 0.9753\n"
     ]
    }
   ],
   "source": [
    "early_stopping = EarlyStopping(monitor='val_loss', patience=2, mode='min')\n",
    "\n",
    "history = model.fit(X_train, y_train, \n",
    "                    validation_data=(X_test, y_test), \n",
    "                    epochs=epochs,\n",
    "                    callbacks=early_stopping,\n",
    "                    batch_size=batch_size, verbose=2)"
   ]
  },
  {
   "cell_type": "code",
   "execution_count": 18,
   "metadata": {
    "execution": {
     "iopub.execute_input": "2021-05-21T09:24:01.388940Z",
     "iopub.status.busy": "2021-05-21T09:24:01.388529Z",
     "iopub.status.idle": "2021-05-21T09:24:01.588185Z",
     "shell.execute_reply": "2021-05-21T09:24:01.587491Z",
     "shell.execute_reply.started": "2021-05-21T09:24:01.388905Z"
    }
   },
   "outputs": [
    {
     "data": {
      "image/png": "[encoded data removed]",
      "text/plain": [
       "<Figure size 432x288 with 1 Axes>"
      ]
     },
     "metadata": {
      "needs_background": "light"
     },
     "output_type": "display_data"
    }
   ],
   "source": [
    "plt.plot(history.history['accuracy'])\n",
    "plt.plot(history.history['val_accuracy'])\n",
    "plt.title('model accuracy')\n",
    "plt.ylabel('accuracy')\n",
    "plt.xlabel('epoch')\n",
    "plt.legend(['Train', 'Val'], loc='upper left')\n",
    "plt.show()"
   ]
  },
  {
   "cell_type": "code",
   "execution_count": 19,
   "metadata": {
    "execution": {
     "iopub.execute_input": "2021-05-21T09:24:03.307801Z",
     "iopub.status.busy": "2021-05-21T09:24:03.307248Z",
     "iopub.status.idle": "2021-05-21T09:24:03.501928Z",
     "shell.execute_reply": "2021-05-21T09:24:03.500801Z",
     "shell.execute_reply.started": "2021-05-21T09:24:03.307767Z"
    }
   },
   "outputs": [
    {
     "data": {
      "image/png": "[encoded data removed]",
      "text/plain": [
       "<Figure size 432x288 with 1 Axes>"
      ]
     },
     "metadata": {
      "needs_background": "light"
     },
     "output_type": "display_data"
    }
   ],
   "source": [
    "#Loss\n",
    "plt.plot(history.history['loss'])\n",
    "plt.plot(history.history['val_loss'])\n",
    "plt.title('model loss')\n",
    "plt.ylabel('loss')\n",
    "plt.xlabel('epoch')\n",
    "plt.legend(['Train', 'Val'], loc = 'upper left')\n",
    "plt.show()"
   ]
  },
  {
   "cell_type": "code",
   "execution_count": 20,
   "metadata": {
    "execution": {
     "iopub.execute_input": "2021-05-21T09:24:11.393422Z",
     "iopub.status.busy": "2021-05-21T09:24:11.393005Z",
     "iopub.status.idle": "2021-05-21T09:24:12.776016Z",
     "shell.execute_reply": "2021-05-21T09:24:12.775206Z",
     "shell.execute_reply.started": "2021-05-21T09:24:11.393384Z"
    }
   },
   "outputs": [
    {
     "name": "stdout",
     "output_type": "stream",
     "text": [
      "Accuracy:\t97.5%\n"
     ]
    },
    {
     "data": {
      "text/plain": [
       "<Figure size 432x288 with 0 Axes>"
      ]
     },
     "metadata": {},
     "output_type": "display_data"
    }
   ],
   "source": [
    "# predict class with test set\n",
    "y_pred_test =  np.argmax(model.predict(X_test), axis=1)\n",
    "print('Accuracy:\\t{:0.1f}%'.format(accuracy_score(np.argmax(y_test,axis=1),y_pred_test)*100))\n",
    "plt.tight_layout()"
   ]
  },
  {
   "cell_type": "code",
   "execution_count": 21,
   "metadata": {
    "execution": {
     "iopub.execute_input": "2021-05-21T09:24:14.332819Z",
     "iopub.status.busy": "2021-05-21T09:24:14.332235Z",
     "iopub.status.idle": "2021-05-21T09:24:14.354595Z",
     "shell.execute_reply": "2021-05-21T09:24:14.353742Z",
     "shell.execute_reply.started": "2021-05-21T09:24:14.332784Z"
    }
   },
   "outputs": [
    {
     "data": {
      "text/plain": [
       "array([[1124,   41,   32],\n",
       "       [  28, 4284,   76],\n",
       "       [  24,   50, 4513]])"
      ]
     },
     "execution_count": 21,
     "metadata": {},
     "output_type": "execute_result"
    }
   ],
   "source": [
    "#confusion matrix\n",
    "confmat = confusion_matrix(np.argmax(y_test,axis=1), y_pred_test)\n",
    "confmat"
   ]
  },
  {
   "cell_type": "code",
   "execution_count": 22,
   "metadata": {
    "execution": {
     "iopub.execute_input": "2021-05-21T09:24:17.668811Z",
     "iopub.status.busy": "2021-05-21T09:24:17.667500Z",
     "iopub.status.idle": "2021-05-21T09:24:17.692184Z",
     "shell.execute_reply": "2021-05-21T09:24:17.690870Z",
     "shell.execute_reply.started": "2021-05-21T09:24:17.668767Z"
    }
   },
   "outputs": [
    {
     "name": "stdout",
     "output_type": "stream",
     "text": [
      "\n",
      "\n",
      "              precision    recall  f1-score   support\n",
      "\n",
      "           0       0.96      0.94      0.95      1197\n",
      "           1       0.98      0.98      0.98      4388\n",
      "           2       0.98      0.98      0.98      4587\n",
      "\n",
      "    accuracy                           0.98     10172\n",
      "   macro avg       0.97      0.97      0.97     10172\n",
      "weighted avg       0.98      0.98      0.98     10172\n",
      "\n"
     ]
    }
   ],
   "source": [
    "#classification report\n",
    "print('\\n')\n",
    "print(classification_report(np.argmax(y_test,axis=1), y_pred_test))\n",
    "\n",
    "    "
   ]
  },
  {
   "cell_type": "code",
   "execution_count": 32,
   "metadata": {
    "execution": {
     "iopub.execute_input": "2021-05-21T09:32:08.474163Z",
     "iopub.status.busy": "2021-05-21T09:32:08.473801Z",
     "iopub.status.idle": "2021-05-21T09:32:08.727190Z",
     "shell.execute_reply": "2021-05-21T09:32:08.726067Z",
     "shell.execute_reply.started": "2021-05-21T09:32:08.474133Z"
    }
   },
   "outputs": [
    {
     "data": {
      "image/png": "[encoded data removed]",
      "text/plain": [
       "<Figure size 648x504 with 2 Axes>"
      ]
     },
     "metadata": {
      "needs_background": "light"
     },
     "output_type": "display_data"
    }
   ],
   "source": [
    "cm = pd.DataFrame(confmat , index = [i for i in df['label'].unique()], \n",
    "                  columns = [i for i in df['label'].unique()])\n",
    "\n",
    "plt.figure(figsize = ( 9 ,7))\n",
    "sns.heatmap(cm,annot=True , fmt=\"d\")\n",
    "plt.show()"
   ]
  },
  {
   "cell_type": "markdown",
   "metadata": {},
   "source": [
    "Looks like we achieved very respectable accuracy (>97%), classifying most of the tweets in the test set correctly!"
   ]
  }
 ],
 "metadata": {
  "kernelspec": {
   "display_name": "Python 3",
   "language": "python",
   "name": "python3"
  },
  "language_info": {
   "codemirror_mode": {
    "name": "ipython",
    "version": 3
   },
   "file_extension": ".py",
   "mimetype": "text/x-python",
   "name": "python",
   "nbconvert_exporter": "python",
   "pygments_lexer": "ipython3",
   "version": "3.6.13"
  }
 },
 "nbformat": 4,
 "nbformat_minor": 4
}